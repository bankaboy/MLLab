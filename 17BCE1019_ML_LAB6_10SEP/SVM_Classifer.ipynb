{
 "cells": [
  {
   "cell_type": "code",
   "execution_count": 24,
   "metadata": {},
   "outputs": [],
   "source": [
    "# dataset - https://www.kaggle.com/uciml/aps-failure-at-scania-trucks-data-set/version/2\n",
    "import numpy as np\n",
    "import pandas as pd\n",
    "import matplotlib.pyplot as plt\n",
    "\n",
    "from sklearn.model_selection import train_test_split\n",
    "from sklearn.preprocessing import StandardScaler\n",
    "from sklearn.preprocessing import Binarizer\n",
    "from sklearn.decomposition import PCA\n",
    "\n",
    "from sklearn.svm import SVC\n",
    "from sklearn.metrics import classification_report, confusion_matrix\n",
    "import random\n",
    "%matplotlib inline"
   ]
  },
  {
   "cell_type": "code",
   "execution_count": 25,
   "metadata": {},
   "outputs": [
    {
     "data": {
      "text/html": [
       "<div>\n",
       "<style scoped>\n",
       "    .dataframe tbody tr th:only-of-type {\n",
       "        vertical-align: middle;\n",
       "    }\n",
       "\n",
       "    .dataframe tbody tr th {\n",
       "        vertical-align: top;\n",
       "    }\n",
       "\n",
       "    .dataframe thead th {\n",
       "        text-align: right;\n",
       "    }\n",
       "</style>\n",
       "<table border=\"1\" class=\"dataframe\">\n",
       "  <thead>\n",
       "    <tr style=\"text-align: right;\">\n",
       "      <th></th>\n",
       "      <th>class</th>\n",
       "      <th>aa_000</th>\n",
       "      <th>ab_000</th>\n",
       "      <th>ac_000</th>\n",
       "      <th>ad_000</th>\n",
       "      <th>ae_000</th>\n",
       "      <th>af_000</th>\n",
       "      <th>ag_000</th>\n",
       "      <th>ag_001</th>\n",
       "      <th>ag_002</th>\n",
       "      <th>...</th>\n",
       "      <th>ee_002</th>\n",
       "      <th>ee_003</th>\n",
       "      <th>ee_004</th>\n",
       "      <th>ee_005</th>\n",
       "      <th>ee_006</th>\n",
       "      <th>ee_007</th>\n",
       "      <th>ee_008</th>\n",
       "      <th>ee_009</th>\n",
       "      <th>ef_000</th>\n",
       "      <th>eg_000</th>\n",
       "    </tr>\n",
       "  </thead>\n",
       "  <tbody>\n",
       "    <tr>\n",
       "      <th>0</th>\n",
       "      <td>neg</td>\n",
       "      <td>76698</td>\n",
       "      <td>na</td>\n",
       "      <td>2130706438</td>\n",
       "      <td>280</td>\n",
       "      <td>0</td>\n",
       "      <td>0</td>\n",
       "      <td>0</td>\n",
       "      <td>0</td>\n",
       "      <td>0</td>\n",
       "      <td>...</td>\n",
       "      <td>1240520</td>\n",
       "      <td>493384</td>\n",
       "      <td>721044</td>\n",
       "      <td>469792</td>\n",
       "      <td>339156</td>\n",
       "      <td>157956</td>\n",
       "      <td>73224</td>\n",
       "      <td>0</td>\n",
       "      <td>0</td>\n",
       "      <td>0</td>\n",
       "    </tr>\n",
       "    <tr>\n",
       "      <th>1</th>\n",
       "      <td>neg</td>\n",
       "      <td>33058</td>\n",
       "      <td>na</td>\n",
       "      <td>0</td>\n",
       "      <td>na</td>\n",
       "      <td>0</td>\n",
       "      <td>0</td>\n",
       "      <td>0</td>\n",
       "      <td>0</td>\n",
       "      <td>0</td>\n",
       "      <td>...</td>\n",
       "      <td>421400</td>\n",
       "      <td>178064</td>\n",
       "      <td>293306</td>\n",
       "      <td>245416</td>\n",
       "      <td>133654</td>\n",
       "      <td>81140</td>\n",
       "      <td>97576</td>\n",
       "      <td>1500</td>\n",
       "      <td>0</td>\n",
       "      <td>0</td>\n",
       "    </tr>\n",
       "    <tr>\n",
       "      <th>2</th>\n",
       "      <td>neg</td>\n",
       "      <td>41040</td>\n",
       "      <td>na</td>\n",
       "      <td>228</td>\n",
       "      <td>100</td>\n",
       "      <td>0</td>\n",
       "      <td>0</td>\n",
       "      <td>0</td>\n",
       "      <td>0</td>\n",
       "      <td>0</td>\n",
       "      <td>...</td>\n",
       "      <td>277378</td>\n",
       "      <td>159812</td>\n",
       "      <td>423992</td>\n",
       "      <td>409564</td>\n",
       "      <td>320746</td>\n",
       "      <td>158022</td>\n",
       "      <td>95128</td>\n",
       "      <td>514</td>\n",
       "      <td>0</td>\n",
       "      <td>0</td>\n",
       "    </tr>\n",
       "    <tr>\n",
       "      <th>3</th>\n",
       "      <td>neg</td>\n",
       "      <td>12</td>\n",
       "      <td>0</td>\n",
       "      <td>70</td>\n",
       "      <td>66</td>\n",
       "      <td>0</td>\n",
       "      <td>10</td>\n",
       "      <td>0</td>\n",
       "      <td>0</td>\n",
       "      <td>0</td>\n",
       "      <td>...</td>\n",
       "      <td>240</td>\n",
       "      <td>46</td>\n",
       "      <td>58</td>\n",
       "      <td>44</td>\n",
       "      <td>10</td>\n",
       "      <td>0</td>\n",
       "      <td>0</td>\n",
       "      <td>0</td>\n",
       "      <td>4</td>\n",
       "      <td>32</td>\n",
       "    </tr>\n",
       "    <tr>\n",
       "      <th>4</th>\n",
       "      <td>neg</td>\n",
       "      <td>60874</td>\n",
       "      <td>na</td>\n",
       "      <td>1368</td>\n",
       "      <td>458</td>\n",
       "      <td>0</td>\n",
       "      <td>0</td>\n",
       "      <td>0</td>\n",
       "      <td>0</td>\n",
       "      <td>0</td>\n",
       "      <td>...</td>\n",
       "      <td>622012</td>\n",
       "      <td>229790</td>\n",
       "      <td>405298</td>\n",
       "      <td>347188</td>\n",
       "      <td>286954</td>\n",
       "      <td>311560</td>\n",
       "      <td>433954</td>\n",
       "      <td>1218</td>\n",
       "      <td>0</td>\n",
       "      <td>0</td>\n",
       "    </tr>\n",
       "  </tbody>\n",
       "</table>\n",
       "<p>5 rows × 171 columns</p>\n",
       "</div>"
      ],
      "text/plain": [
       "  class  aa_000 ab_000      ac_000 ad_000 ae_000 af_000 ag_000 ag_001 ag_002  \\\n",
       "0   neg   76698     na  2130706438    280      0      0      0      0      0   \n",
       "1   neg   33058     na           0     na      0      0      0      0      0   \n",
       "2   neg   41040     na         228    100      0      0      0      0      0   \n",
       "3   neg      12      0          70     66      0     10      0      0      0   \n",
       "4   neg   60874     na        1368    458      0      0      0      0      0   \n",
       "\n",
       "   ...     ee_002  ee_003  ee_004  ee_005  ee_006  ee_007  ee_008 ee_009  \\\n",
       "0  ...    1240520  493384  721044  469792  339156  157956   73224      0   \n",
       "1  ...     421400  178064  293306  245416  133654   81140   97576   1500   \n",
       "2  ...     277378  159812  423992  409564  320746  158022   95128    514   \n",
       "3  ...        240      46      58      44      10       0       0      0   \n",
       "4  ...     622012  229790  405298  347188  286954  311560  433954   1218   \n",
       "\n",
       "  ef_000 eg_000  \n",
       "0      0      0  \n",
       "1      0      0  \n",
       "2      0      0  \n",
       "3      4     32  \n",
       "4      0      0  \n",
       "\n",
       "[5 rows x 171 columns]"
      ]
     },
     "execution_count": 25,
     "metadata": {},
     "output_type": "execute_result"
    }
   ],
   "source": [
    "random_seed = 100\n",
    "random.seed(random_seed)\n",
    "np.random.seed(random_seed)\n",
    "\n",
    "df = pd.read_csv(\"aps_failure_training_set.csv\")\n",
    "df_test = pd.read_csv(\"aps_failure_test_set.csv\")\n",
    "df.head()"
   ]
  },
  {
   "cell_type": "code",
   "execution_count": 26,
   "metadata": {},
   "outputs": [
    {
     "data": {
      "text/plain": [
       "Flag      False\n",
       "aa_000    False\n",
       "ab_000     True\n",
       "ac_000     True\n",
       "ad_000     True\n",
       "ae_000     True\n",
       "af_000     True\n",
       "ag_000     True\n",
       "ag_001     True\n",
       "ag_002     True\n",
       "ag_003     True\n",
       "ag_004     True\n",
       "ag_005     True\n",
       "ag_006     True\n",
       "ag_007     True\n",
       "ag_008     True\n",
       "ag_009     True\n",
       "ah_000     True\n",
       "ai_000     True\n",
       "aj_000     True\n",
       "ak_000     True\n",
       "al_000     True\n",
       "am_0       True\n",
       "an_000     True\n",
       "ao_000     True\n",
       "dtype: bool"
      ]
     },
     "execution_count": 26,
     "metadata": {},
     "output_type": "execute_result"
    }
   ],
   "source": [
    "df = df.rename(columns = {'class' : 'Flag'})\n",
    "df['Flag'] = df.Flag.map({'neg':0, 'pos':1})\n",
    "df = df.replace(['na'],[np.NaN])\n",
    "df.isnull().any().head(25)"
   ]
  },
  {
   "cell_type": "code",
   "execution_count": 27,
   "metadata": {},
   "outputs": [
    {
     "data": {
      "text/plain": [
       "Text(0,0.5,'Frecuency')"
      ]
     },
     "execution_count": 27,
     "metadata": {},
     "output_type": "execute_result"
    },
    {
     "data": {
      "image/png": "[encoded data removed]",
      "text/plain": [
       "<Figure size 432x288 with 1 Axes>"
      ]
     },
     "metadata": {},
     "output_type": "display_data"
    }
   ],
   "source": [
    "Count = pd.value_counts(df['Flag'], sort = True).sort_index()\n",
    "Count.plot(kind = 'bar')\n",
    "plt.title(\"Count\")\n",
    "plt.xlabel(\"Flag\")\n",
    "plt.ylabel(\"Frecuency\")"
   ]
  },
  {
   "cell_type": "code",
   "execution_count": 39,
   "metadata": {},
   "outputs": [
    {
     "data": {
      "text/plain": [
       "82"
      ]
     },
     "execution_count": 39,
     "metadata": {},
     "output_type": "execute_result"
    }
   ],
   "source": [
    "df_X = df.loc[:,df.columns != 'Flag']\n",
    "df_Y = df.loc[:,df.columns == 'Flag']\n",
    "df_X = df_X.apply(pd.to_numeric)\n",
    "df_X= df_X.fillna(df_X.mean()).dropna(axis =1 , how ='all')\n",
    "scaler = StandardScaler()\n",
    "scaler.fit(df_X)\n",
    "df_X = scaler.transform(df_X)\n",
    "pca = PCA(0.95)\n",
    "pca.fit(df_X)\n",
    "pca.n_components_"
   ]
  },
  {
   "cell_type": "code",
   "execution_count": 40,
   "metadata": {},
   "outputs": [
    {
     "data": {
      "image/png": "[encoded data removed]",
      "text/plain": [
       "<Figure size 432x288 with 1 Axes>"
      ]
     },
     "metadata": {},
     "output_type": "display_data"
    }
   ],
   "source": [
    "df_X = pca.transform(df_X)\n",
    "df_X= pd.DataFrame(df_X)\n",
    "df_test = df_test.rename(columns = {'class' : 'Flag'})\n",
    "df_test = df_test.replace(['na'],[np.NaN])\n",
    "\n",
    "Count = pd.value_counts(df_test['Flag'], sort = True).sort_index()\n",
    "Count.plot(kind = 'bar')\n",
    "plt.title(\"Count\")\n",
    "plt.xlabel(\"Flag\")\n",
    "plt.ylabel(\"Frecuency\")\n",
    "\n",
    "df_test['Flag'] = df_test.Flag.map({'neg':0, 'pos':1})\n",
    "\n",
    "df_test_X = df_test.loc[:,df_test.columns != 'Flag']\n",
    "df_test_Y = df_test.loc[:,df_test.columns == 'Flag']\n",
    "\n",
    "df_test_X = df_test_X.apply(pd.to_numeric)\n",
    "\n",
    "df_test_X= df_test_X.fillna(df_test_X.mean()).dropna(axis =1 , how ='all')\n",
    "\n",
    "scaler = StandardScaler()\n",
    "\n",
    "scaler.fit(df_test_X)\n",
    "\n",
    "df_test_X = scaler.transform(df_test_X)\n",
    "\n",
    "pca = PCA(82)\n",
    "\n",
    "pca.fit(df_test_X)\n",
    "\n",
    "pca.n_components_\n",
    "\n",
    "df_test_X = pca.transform(df_test_X)\n",
    "\n",
    "df_test_X= pd.DataFrame(df_test_X)"
   ]
  },
  {
   "cell_type": "code",
   "execution_count": 36,
   "metadata": {},
   "outputs": [
    {
     "name": "stdout",
     "output_type": "stream",
     "text": [
      "Percentage of Negatives:  0.5\n",
      "Percentage of Positives :  0.5\n",
      "Datapoints :  1632\n"
     ]
    }
   ],
   "source": [
    "X_train,X_validation,Y_train,Y_validation = train_test_split(df_X,df_Y,test_size = 0.2,random_state = 0)\n",
    "DF = pd.concat([X_train,Y_train],axis = 1)\n",
    "numberofrecords_pos = len(DF[DF.Flag == 1])\n",
    "pos_indices = np.array(DF[DF.Flag == 1].index)\n",
    "\n",
    "neg_indices = DF[DF.Flag == 0].index\n",
    "\n",
    "random_neg_indices = np.random.choice(neg_indices, numberofrecords_pos, replace = False)\n",
    "random_neg_indices =np.array(random_neg_indices)\n",
    "\n",
    "under_sample_indices = np.concatenate([pos_indices,random_neg_indices])\n",
    "\n",
    "under_sample_data = DF.loc[under_sample_indices,:]\n",
    "\n",
    "X_undersample = under_sample_data.loc[:,under_sample_data.columns != 'Flag']\n",
    "Y_undersample = under_sample_data.loc[:,under_sample_data.columns == 'Flag']\n",
    "\n",
    "print(\"Percentage of Negatives: \" , len(under_sample_data[under_sample_data.Flag == 0])/len(under_sample_data))\n",
    "print(\"Percentage of Positives : \", len(under_sample_data[under_sample_data.Flag == 1])/len(under_sample_data))\n",
    "print(\"Datapoints : \", len(under_sample_data))"
   ]
  },
  {
   "cell_type": "code",
   "execution_count": 32,
   "metadata": {},
   "outputs": [
    {
     "name": "stderr",
     "output_type": "stream",
     "text": [
      "/usr/local/lib64/python3.6/site-packages/sklearn/utils/validation.py:578: DataConversionWarning: A column-vector y was passed when a 1d array was expected. Please change the shape of y to (n_samples, ), for example using ravel().\n",
      "  y = column_or_1d(y, warn=True)\n"
     ]
    },
    {
     "data": {
      "text/plain": [
       "SVC(C=40, cache_size=200, class_weight=None, coef0=0.0,\n",
       "  decision_function_shape='ovr', degree=3, gamma='auto', kernel='linear',\n",
       "  max_iter=-1, probability=False, random_state=None, shrinking=True,\n",
       "  tol=0.001, verbose=False)"
      ]
     },
     "execution_count": 32,
     "metadata": {},
     "output_type": "execute_result"
    }
   ],
   "source": [
    "model = SVC(kernel='linear', C=40)\n",
    "model.fit(X_undersample, Y_undersample)"
   ]
  },
  {
   "cell_type": "code",
   "execution_count": 41,
   "metadata": {},
   "outputs": [
    {
     "name": "stdout",
     "output_type": "stream",
     "text": [
      "Total Examples: 60000\n",
      "Accuracy: 0.9553\n",
      "Error Rate: 0.0447\n",
      "Number of correct classifications: 57316\n",
      "Number of incorrect classifications: 2683\n"
     ]
    }
   ],
   "source": [
    "score = model.score(X_undersample, Y_undersample)\n",
    "error_rate = (1- score)\n",
    "n_examples = len(df_X)\n",
    "n_correct = n_examples * (1 - error_rate) \n",
    "n_incorrect  = n_examples * error_rate \n",
    "\n",
    "print ('Total Examples: %d' % n_examples)\n",
    "print ('Accuracy: %0.4f' % score)\n",
    "print ('Error Rate: %0.4f' % error_rate)\n",
    "print ('Number of correct classifications: %d' % n_correct)\n",
    "print ('Number of incorrect classifications: %d' % n_incorrect)"
   ]
  },
  {
   "cell_type": "code",
   "execution_count": 34,
   "metadata": {},
   "outputs": [
    {
     "data": {
      "text/plain": [
       "array([[10760,  4865],\n",
       "       [  187,   188]])"
      ]
     },
     "execution_count": 34,
     "metadata": {},
     "output_type": "execute_result"
    }
   ],
   "source": [
    "y_pred = model.predict(df_test_X)\n",
    "confusion_matrix(df_test_Y,y_pred)"
   ]
  },
  {
   "cell_type": "code",
   "execution_count": 42,
   "metadata": {},
   "outputs": [
    {
     "name": "stdout",
     "output_type": "stream",
     "text": [
      "The cost of the model is : 142150 \n"
     ]
    }
   ],
   "source": [
    "result = (187*500) + (4865*10)\n",
    "print( 'The cost of the model is : %d ' % result)"
   ]
  },
  {
   "cell_type": "code",
   "execution_count": null,
   "metadata": {},
   "outputs": [],
   "source": []
  }
 ],
 "metadata": {
  "kernelspec": {
   "display_name": "Python 3",
   "language": "python",
   "name": "python3"
  },
  "language_info": {
   "codemirror_mode": {
    "name": "ipython",
    "version": 3
   },
   "file_extension": ".py",
   "mimetype": "text/x-python",
   "name": "python",
   "nbconvert_exporter": "python",
   "pygments_lexer": "ipython3",
   "version": "3.6.6"
  }
 },
 "nbformat": 4,
 "nbformat_minor": 2
}