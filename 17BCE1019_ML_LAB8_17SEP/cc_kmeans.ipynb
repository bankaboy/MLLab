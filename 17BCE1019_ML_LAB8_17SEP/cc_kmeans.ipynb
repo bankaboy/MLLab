{
 "cells": [
  {
   "cell_type": "code",
   "execution_count": 7,
   "metadata": {},
   "outputs": [
    {
     "name": "stderr",
     "output_type": "stream",
     "text": [
      "/home/dhrubanka/.local/lib/python3.7/site-packages/sklearn/model_selection/_split.py:2179: FutureWarning: From version 0.21, test_size will always complement train_size unless both are specified.\n",
      "  FutureWarning)\n"
     ]
    },
    {
     "name": "stdout",
     "output_type": "stream",
     "text": [
      "tn --> true negatives\n",
      "fp --> false positives\n",
      "fn --> false negatives\n",
      "tp --> true positives\n",
      "\n",
      "K-Means\n",
      "Confusion Matrix\n",
      "tn = 22702 fp = 5735\n",
      "fn = 18 tp = 26\n",
      "Scores\n",
      "Accuracy --> 0.798005688002528\n",
      "Precison --> 0.004513105363652144\n",
      "Recall --> 0.5909090909090909\n",
      "F1 --> 0.008957795004306632\n",
      "\n",
      "Time Taken : 4.313104629516602seconds\n"
     ]
    }
   ],
   "source": [
    "# dataset - https://www.kaggle.com/mlg-ulb/creditcardfraud\n",
    "import numpy as np\n",
    "import pandas as pd\n",
    "from sklearn.cluster import KMeans\n",
    "from sklearn.neighbors import KNeighborsClassifier\n",
    "from sklearn.model_selection import train_test_split\n",
    "from sklearn.preprocessing import normalize\n",
    "from sklearn.metrics import confusion_matrix\n",
    "from sklearn.metrics import accuracy_score\n",
    "from sklearn.metrics import precision_score\n",
    "from sklearn.metrics import recall_score\n",
    "from sklearn.metrics import f1_score\n",
    "import time\n",
    "\n",
    "tic=time.time()\n",
    "full_data=pd.read_csv(\"creditcard.csv\")\n",
    "full_data=full_data.sample(frac=1)#randomize the whole dataset\n",
    "full_features=full_data.drop([\"Time\",\"Class\"],axis=1)\n",
    "full_labels=pd.DataFrame(full_data[[\"Class\"]])\n",
    "full_features_array=full_features.values\n",
    "full_labels_array=full_labels.values\n",
    "train_features,test_features,train_labels,test_labels=train_test_split(full_features_array,full_labels_array,train_size=0.90)\n",
    "train_features=normalize(train_features)\n",
    "test_features=normalize(test_features)\n",
    "#k_means_classification --> k_means_clustering, confsion_matrix, reassigning\n",
    "kmeans=KMeans(n_clusters=2,random_state=0,algorithm=\"elkan\",max_iter=10000,n_jobs=-1)\n",
    "kmeans.fit(train_features)\n",
    "kmeans_predicted_train_labels=kmeans.predict(train_features)\n",
    "#confusion matrix\n",
    "# tn fp\n",
    "# fn tp\n",
    "print(\"tn --> true negatives\")\n",
    "print(\"fp --> false positives\")\n",
    "print(\"fn --> false negatives\")\n",
    "print(\"tp --> true positives\")\n",
    "tn,fp,fn,tp=confusion_matrix(train_labels,kmeans_predicted_train_labels).ravel()\n",
    "reassignflag=False\n",
    "if tn+tp<fn+fp:\n",
    "\t# clustering is opposite of original classification\n",
    "\treassignflag=True\n",
    "kmeans_predicted_test_labels=kmeans.predict(test_features)\n",
    "if reassignflag:\n",
    "\tkmeans_predicted_test_labels=1-kmeans_predicted_test_labels\n",
    "#calculating confusion matrix for kmeans\n",
    "tn,fp,fn,tp=confusion_matrix(test_labels,kmeans_predicted_test_labels).ravel()\n",
    "#scoring kmeans\n",
    "kmeans_accuracy_score=accuracy_score(test_labels,kmeans_predicted_test_labels)\n",
    "kmeans_precison_score=precision_score(test_labels,kmeans_predicted_test_labels)\n",
    "kmeans_recall_score=recall_score(test_labels,kmeans_predicted_test_labels)\n",
    "kmeans_f1_score=f1_score(test_labels,kmeans_predicted_test_labels)\n",
    "#printing\n",
    "print(\"\")\n",
    "print(\"K-Means\")\n",
    "print(\"Confusion Matrix\")\n",
    "print(\"tn =\",tn,\"fp =\",fp)\n",
    "print(\"fn =\",fn,\"tp =\",tp)\n",
    "print(\"Scores\")\n",
    "print(\"Accuracy -->\",kmeans_accuracy_score)\n",
    "print(\"Precison -->\",kmeans_precison_score)\n",
    "print(\"Recall -->\",kmeans_recall_score)\n",
    "print(\"F1 -->\",kmeans_f1_score)\n",
    "\n",
    "#time elapsed\n",
    "toc=time.time()\n",
    "elapsedtime=toc-tic\n",
    "print(\"\")\n",
    "print(\"Time Taken : \"+str(elapsedtime)+\"seconds\")"
   ]
  },
  {
   "cell_type": "code",
   "execution_count": null,
   "metadata": {},
   "outputs": [],
   "source": []
  }
 ],
 "metadata": {
  "kernelspec": {
   "display_name": "Python 3",
   "language": "python",
   "name": "python3"
  },
  "language_info": {
   "codemirror_mode": {
    "name": "ipython",
    "version": 3
   },
   "file_extension": ".py",
   "mimetype": "text/x-python",
   "name": "python",
   "nbconvert_exporter": "python",
   "pygments_lexer": "ipython3",
   "version": "3.7.4"
  }
 },
 "nbformat": 4,
 "nbformat_minor": 2
}