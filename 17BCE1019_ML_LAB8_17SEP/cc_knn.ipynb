{
 "cells": [
  {
   "cell_type": "code",
   "execution_count": 3,
   "metadata": {},
   "outputs": [
    {
     "name": "stderr",
     "output_type": "stream",
     "text": [
      "/home/dhrubanka/.local/lib/python3.7/site-packages/sklearn/model_selection/_split.py:2179: FutureWarning: From version 0.21, test_size will always complement train_size unless both are specified.\n",
      "  FutureWarning)\n"
     ]
    },
    {
     "name": "stdout",
     "output_type": "stream",
     "text": [
      "\n",
      "K-Nearest Neighbours\n",
      "Confusion Matrix\n",
      "tn = 28437 fp = 4\n",
      "fn = 12 tp = 28\n",
      "Scores\n",
      "Accuracy --> 0.9994382219725431\n",
      "Precison --> 0.875\n",
      "Recall --> 0.7\n",
      "F1 --> 0.7777777777777777\n",
      "\n",
      "Time Taken : 29.982192754745483seconds\n"
     ]
    }
   ],
   "source": [
    "# dataset - https://www.kaggle.com/mlg-ulb/creditcardfraud\n",
    "import numpy as np\n",
    "import pandas as pd\n",
    "from sklearn.cluster import KMeans\n",
    "from sklearn.neighbors import KNeighborsClassifier\n",
    "from sklearn.model_selection import train_test_split\n",
    "from sklearn.preprocessing import normalize\n",
    "from sklearn.metrics import confusion_matrix\n",
    "from sklearn.metrics import accuracy_score\n",
    "from sklearn.metrics import precision_score\n",
    "from sklearn.metrics import recall_score\n",
    "from sklearn.metrics import f1_score\n",
    "import time\n",
    "\n",
    "tic=time.time()\n",
    "full_data=pd.read_csv(\"creditcard.csv\")\n",
    "full_data=full_data.sample(frac=1)#randomize the whole dataset\n",
    "full_features=full_data.drop([\"Time\",\"Class\"],axis=1)\n",
    "full_labels=pd.DataFrame(full_data[[\"Class\"]])\n",
    "full_features_array=full_features.values\n",
    "full_labels_array=full_labels.values\n",
    "train_features,test_features,train_labels,test_labels=train_test_split(full_features_array,full_labels_array,train_size=0.90)\n",
    "train_features=normalize(train_features)\n",
    "test_features=normalize(test_features)\n",
    "#k_nearest_neighbours_classification\n",
    "knn=KNeighborsClassifier(n_neighbors=5,algorithm=\"kd_tree\",n_jobs=-1)\n",
    "knn.fit(train_features,train_labels.ravel())\n",
    "knn_predicted_test_labels=knn.predict(test_features)\n",
    "#calculating confusion matrix for knn\n",
    "tn,fp,fn,tp=confusion_matrix(test_labels,knn_predicted_test_labels).ravel()\n",
    "#scoring knn\n",
    "knn_accuracy_score=accuracy_score(test_labels,knn_predicted_test_labels)\n",
    "knn_precison_score=precision_score(test_labels,knn_predicted_test_labels)\n",
    "knn_recall_score=recall_score(test_labels,knn_predicted_test_labels)\n",
    "knn_f1_score=f1_score(test_labels,knn_predicted_test_labels)\n",
    "#printing\n",
    "print(\"\")\n",
    "print(\"K-Nearest Neighbours\")\n",
    "print(\"Confusion Matrix\")\n",
    "print(\"tn =\",tn,\"fp =\",fp)\n",
    "print(\"fn =\",fn,\"tp =\",tp)\n",
    "print(\"Scores\")\n",
    "print(\"Accuracy -->\",knn_accuracy_score)\n",
    "print(\"Precison -->\",knn_precison_score)\n",
    "print(\"Recall -->\",knn_recall_score)\n",
    "print(\"F1 -->\",knn_f1_score)\n",
    "\n",
    "#time elapsed\n",
    "toc=time.time()\n",
    "elapsedtime=toc-tic\n",
    "print(\"\")\n",
    "print(\"Time Taken : \"+str(elapsedtime)+\"seconds\")"
   ]
  },
  {
   "cell_type": "code",
   "execution_count": null,
   "metadata": {},
   "outputs": [],
   "source": []
  }
 ],
 "metadata": {
  "kernelspec": {
   "display_name": "Python 3",
   "language": "python",
   "name": "python3"
  },
  "language_info": {
   "codemirror_mode": {
    "name": "ipython",
    "version": 2
   },
   "file_extension": ".py",
   "mimetype": "text/x-python",
   "name": "python",
   "nbconvert_exporter": "python",
   "pygments_lexer": "ipython2",
   "version": "2.7.17"
  }
 },
 "nbformat": 4,
 "nbformat_minor": 2
}
