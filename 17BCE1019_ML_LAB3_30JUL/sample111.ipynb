{
 "cells": [
  {
   "cell_type": "code",
   "execution_count": 6,
   "metadata": {},
   "outputs": [],
   "source": [
    "import pandas as pd"
   ]
  },
  {
   "cell_type": "code",
   "execution_count": 7,
   "metadata": {},
   "outputs": [],
   "source": [
    "data = pd.read_excel('E:\\\\test1.xlsx')"
   ]
  },
  {
   "cell_type": "code",
   "execution_count": 8,
   "metadata": {},
   "outputs": [
    {
     "data": {
      "text/html": [
       "<div>\n",
       "<style scoped>\n",
       "    .dataframe tbody tr th:only-of-type {\n",
       "        vertical-align: middle;\n",
       "    }\n",
       "\n",
       "    .dataframe tbody tr th {\n",
       "        vertical-align: top;\n",
       "    }\n",
       "\n",
       "    .dataframe thead th {\n",
       "        text-align: right;\n",
       "    }\n",
       "</style>\n",
       "<table border=\"1\" class=\"dataframe\">\n",
       "  <thead>\n",
       "    <tr style=\"text-align: right;\">\n",
       "      <th></th>\n",
       "      <th>Sl.No.</th>\n",
       "      <th>Load</th>\n",
       "      <th>Biogas flow rate</th>\n",
       "      <th>methane fraction</th>\n",
       "      <th>Intake temperature</th>\n",
       "      <th>CO2</th>\n",
       "      <th>CO</th>\n",
       "      <th>HC</th>\n",
       "      <th>O2</th>\n",
       "      <th>Smoke</th>\n",
       "      <th>...</th>\n",
       "      <th>dp/dt</th>\n",
       "      <th>ID</th>\n",
       "      <th>CD</th>\n",
       "      <th>CA50</th>\n",
       "      <th>Max. HRR</th>\n",
       "      <th>BSFC</th>\n",
       "      <th>CO2.1</th>\n",
       "      <th>HC.1</th>\n",
       "      <th>CO.1</th>\n",
       "      <th>NOx</th>\n",
       "    </tr>\n",
       "  </thead>\n",
       "  <tbody>\n",
       "    <tr>\n",
       "      <th>0</th>\n",
       "      <td>1</td>\n",
       "      <td>5</td>\n",
       "      <td>2</td>\n",
       "      <td>50</td>\n",
       "      <td>35</td>\n",
       "      <td>3.38</td>\n",
       "      <td>0.13</td>\n",
       "      <td>105</td>\n",
       "      <td>15.92</td>\n",
       "      <td>35.0</td>\n",
       "      <td>...</td>\n",
       "      <td>2.326593</td>\n",
       "      <td>26.0</td>\n",
       "      <td>82.0</td>\n",
       "      <td>38.0</td>\n",
       "      <td>21.492709</td>\n",
       "      <td>0.475258</td>\n",
       "      <td>3.38</td>\n",
       "      <td>1.360185</td>\n",
       "      <td>36.271588</td>\n",
       "      <td>2.869840</td>\n",
       "    </tr>\n",
       "    <tr>\n",
       "      <th>1</th>\n",
       "      <td>2</td>\n",
       "      <td>5</td>\n",
       "      <td>2</td>\n",
       "      <td>65</td>\n",
       "      <td>35</td>\n",
       "      <td>3.32</td>\n",
       "      <td>0.12</td>\n",
       "      <td>143</td>\n",
       "      <td>15.95</td>\n",
       "      <td>33.0</td>\n",
       "      <td>...</td>\n",
       "      <td>2.561082</td>\n",
       "      <td>26.0</td>\n",
       "      <td>92.0</td>\n",
       "      <td>39.0</td>\n",
       "      <td>23.522741</td>\n",
       "      <td>0.477607</td>\n",
       "      <td>3.32</td>\n",
       "      <td>1.878081</td>\n",
       "      <td>33.944874</td>\n",
       "      <td>3.152024</td>\n",
       "    </tr>\n",
       "    <tr>\n",
       "      <th>2</th>\n",
       "      <td>3</td>\n",
       "      <td>5</td>\n",
       "      <td>2</td>\n",
       "      <td>80</td>\n",
       "      <td>35</td>\n",
       "      <td>3.09</td>\n",
       "      <td>0.13</td>\n",
       "      <td>167</td>\n",
       "      <td>15.97</td>\n",
       "      <td>33.0</td>\n",
       "      <td>...</td>\n",
       "      <td>2.509624</td>\n",
       "      <td>25.0</td>\n",
       "      <td>88.0</td>\n",
       "      <td>40.0</td>\n",
       "      <td>26.273389</td>\n",
       "      <td>0.474288</td>\n",
       "      <td>3.09</td>\n",
       "      <td>2.182968</td>\n",
       "      <td>36.600658</td>\n",
       "      <td>3.559515</td>\n",
       "    </tr>\n",
       "    <tr>\n",
       "      <th>3</th>\n",
       "      <td>4</td>\n",
       "      <td>5</td>\n",
       "      <td>2</td>\n",
       "      <td>100</td>\n",
       "      <td>35</td>\n",
       "      <td>2.98</td>\n",
       "      <td>0.15</td>\n",
       "      <td>189</td>\n",
       "      <td>16.00</td>\n",
       "      <td>31.0</td>\n",
       "      <td>...</td>\n",
       "      <td>2.257887</td>\n",
       "      <td>26.0</td>\n",
       "      <td>69.0</td>\n",
       "      <td>25.0</td>\n",
       "      <td>20.869492</td>\n",
       "      <td>0.478499</td>\n",
       "      <td>2.98</td>\n",
       "      <td>2.483729</td>\n",
       "      <td>42.456906</td>\n",
       "      <td>3.123615</td>\n",
       "    </tr>\n",
       "    <tr>\n",
       "      <th>4</th>\n",
       "      <td>5</td>\n",
       "      <td>10</td>\n",
       "      <td>2</td>\n",
       "      <td>50</td>\n",
       "      <td>35</td>\n",
       "      <td>4.61</td>\n",
       "      <td>0.12</td>\n",
       "      <td>107</td>\n",
       "      <td>14.13</td>\n",
       "      <td>41.0</td>\n",
       "      <td>...</td>\n",
       "      <td>3.608106</td>\n",
       "      <td>24.0</td>\n",
       "      <td>80.0</td>\n",
       "      <td>34.0</td>\n",
       "      <td>31.025659</td>\n",
       "      <td>0.307573</td>\n",
       "      <td>4.61</td>\n",
       "      <td>0.718109</td>\n",
       "      <td>17.346128</td>\n",
       "      <td>4.135193</td>\n",
       "    </tr>\n",
       "  </tbody>\n",
       "</table>\n",
       "<p>5 rows × 33 columns</p>\n",
       "</div>"
      ],
      "text/plain": [
       "   Sl.No.  Load  Biogas flow rate  methane fraction  Intake temperature   CO2  \\\n",
       "0       1     5                 2                50                  35  3.38   \n",
       "1       2     5                 2                65                  35  3.32   \n",
       "2       3     5                 2                80                  35  3.09   \n",
       "3       4     5                 2               100                  35  2.98   \n",
       "4       5    10                 2                50                  35  4.61   \n",
       "\n",
       "     CO   HC     O2  Smoke  ...     dp/dt    ID    CD  CA50   Max. HRR  \\\n",
       "0  0.13  105  15.92   35.0  ...  2.326593  26.0  82.0  38.0  21.492709   \n",
       "1  0.12  143  15.95   33.0  ...  2.561082  26.0  92.0  39.0  23.522741   \n",
       "2  0.13  167  15.97   33.0  ...  2.509624  25.0  88.0  40.0  26.273389   \n",
       "3  0.15  189  16.00   31.0  ...  2.257887  26.0  69.0  25.0  20.869492   \n",
       "4  0.12  107  14.13   41.0  ...  3.608106  24.0  80.0  34.0  31.025659   \n",
       "\n",
       "       BSFC  CO2.1      HC.1       CO.1       NOx  \n",
       "0  0.475258   3.38  1.360185  36.271588  2.869840  \n",
       "1  0.477607   3.32  1.878081  33.944874  3.152024  \n",
       "2  0.474288   3.09  2.182968  36.600658  3.559515  \n",
       "3  0.478499   2.98  2.483729  42.456906  3.123615  \n",
       "4  0.307573   4.61  0.718109  17.346128  4.135193  \n",
       "\n",
       "[5 rows x 33 columns]"
      ]
     },
     "execution_count": 8,
     "metadata": {},
     "output_type": "execute_result"
    }
   ],
   "source": [
    "data.head()"
   ]
  },
  {
   "cell_type": "code",
   "execution_count": 9,
   "metadata": {},
   "outputs": [],
   "source": [
    "features_lis= ['Load', 'Biogas flow rate', 'methane fraction', 'Intake temperature', 'CO2']\n",
    "data = data.dropna().drop('Sl.No.', axis=1)\n",
    "features = data.loc[:, features_lis]\n",
    "target = data.drop(features_lis, axis=1)"
   ]
  },
  {
   "cell_type": "code",
   "execution_count": 11,
   "metadata": {},
   "outputs": [],
   "source": [
    "from sklearn.preprocessing import StandardScaler, MinMaxScaler"
   ]
  },
  {
   "cell_type": "code",
   "execution_count": 12,
   "metadata": {},
   "outputs": [],
   "source": [
    "std_sc=StandardScaler()\n",
    "min_max_sc=MinMaxScaler()"
   ]
  },
  {
   "cell_type": "code",
   "execution_count": 13,
   "metadata": {
    "scrolled": false
   },
   "outputs": [
    {
     "name": "stderr",
     "output_type": "stream",
     "text": [
      "C:\\Users\\admin\\Anaconda3\\lib\\site-packages\\sklearn\\preprocessing\\data.py:645: DataConversionWarning: Data with input dtype int64, float64 were all converted to float64 by StandardScaler.\n",
      "  return self.partial_fit(X, y)\n",
      "C:\\Users\\admin\\Anaconda3\\lib\\site-packages\\sklearn\\base.py:464: DataConversionWarning: Data with input dtype int64, float64 were all converted to float64 by StandardScaler.\n",
      "  return self.fit(X, **fit_params).transform(X)\n"
     ]
    }
   ],
   "source": [
    "data = std_sc.fit_transform(data)"
   ]
  },
  {
   "cell_type": "code",
   "execution_count": 14,
   "metadata": {},
   "outputs": [
    {
     "name": "stderr",
     "output_type": "stream",
     "text": [
      "C:\\Users\\admin\\Anaconda3\\lib\\site-packages\\sklearn\\preprocessing\\data.py:334: DataConversionWarning: Data with input dtype int64, float64 were all converted to float64 by MinMaxScaler.\n",
      "  return self.partial_fit(X, y)\n"
     ]
    }
   ],
   "source": [
    "target = min_max_sc.fit_transform(target)"
   ]
  },
  {
   "cell_type": "code",
   "execution_count": 15,
   "metadata": {},
   "outputs": [],
   "source": [
    "from sklearn.model_selection import train_test_split\n",
    "X_train, X_test, y_train, y_test = train_test_split(data, target, test_size= 0.3, random_state=0)"
   ]
  },
  {
   "cell_type": "code",
   "execution_count": 16,
   "metadata": {},
   "outputs": [],
   "source": [
    "from sklearn.linear_model import LinearRegression"
   ]
  },
  {
   "cell_type": "code",
   "execution_count": 17,
   "metadata": {},
   "outputs": [],
   "source": [
    "lr = LinearRegression()"
   ]
  },
  {
   "cell_type": "code",
   "execution_count": 18,
   "metadata": {},
   "outputs": [
    {
     "data": {
      "text/plain": [
       "LinearRegression(copy_X=True, fit_intercept=True, n_jobs=None,\n",
       "         normalize=False)"
      ]
     },
     "execution_count": 18,
     "metadata": {},
     "output_type": "execute_result"
    }
   ],
   "source": [
    "lr.fit(X_train, y_train)"
   ]
  },
  {
   "cell_type": "code",
   "execution_count": 19,
   "metadata": {},
   "outputs": [
    {
     "data": {
      "text/plain": [
       "1.4439935436791013e-31"
      ]
     },
     "execution_count": 19,
     "metadata": {},
     "output_type": "execute_result"
    }
   ],
   "source": [
    "from sklearn.metrics import mean_squared_error\n",
    "mean_squared_error(y_test, lr.predict(X_test))"
   ]
  },
  {
   "cell_type": "code",
   "execution_count": 20,
   "metadata": {},
   "outputs": [
    {
     "data": {
      "text/plain": [
       "array([[1.80000000e-01, 6.00000000e+02, 1.31600000e+01, ...,\n",
       "        3.11472773e+00, 2.01259330e+01, 7.54722489e-01],\n",
       "       [1.30000000e-01, 1.86000000e+02, 1.51700000e+01, ...,\n",
       "        2.37060757e+00, 3.56865656e+01, 2.47060838e+00],\n",
       "       [2.00000000e-01, 1.18000000e+02, 9.81000000e+00, ...,\n",
       "        3.96017609e-01, 1.44569662e+01, 7.53569361e+00],\n",
       "       ...,\n",
       "       [1.10000000e-01, 1.01000000e+02, 1.36000000e+01, ...,\n",
       "        5.87157773e-01, 1.37733887e+01, 4.74913599e+00],\n",
       "       [1.90000000e-01, 9.60000000e+01, 8.82000000e+00, ...,\n",
       "        2.62932671e-01, 1.12083478e+01, 6.02975405e+00],\n",
       "       [2.40000000e-01, 1.55000000e+02, 7.79000000e+00, ...,\n",
       "        3.92419535e-01, 1.30871428e+01, 6.32155737e+00]])"
      ]
     },
     "execution_count": 20,
     "metadata": {},
     "output_type": "execute_result"
    }
   ],
   "source": [
    "#Predicted values:\n",
    "min_max_sc.inverse_transform(lr.predict(X_test))"
   ]
  }
 ],
 "metadata": {
  "kernelspec": {
   "display_name": "Python 3",
   "language": "python",
   "name": "python3"
  },
  "language_info": {
   "codemirror_mode": {
    "name": "ipython",
    "version": 3
   },
   "file_extension": ".py",
   "mimetype": "text/x-python",
   "name": "python",
   "nbconvert_exporter": "python",
   "pygments_lexer": "ipython3",
   "version": "3.7.3"
  }
 },
 "nbformat": 4,
 "nbformat_minor": 2
}
