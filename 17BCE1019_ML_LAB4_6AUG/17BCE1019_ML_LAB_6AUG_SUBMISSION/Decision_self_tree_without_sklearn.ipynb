{
 "cells": [
  {
   "cell_type": "code",
   "execution_count": 9,
   "metadata": {},
   "outputs": [],
   "source": [
    "import numpy as np\n",
    "import pandas as pd\n",
    "from numpy import log2 as log\n",
    "eps = np.finfo(float).eps"
   ]
  },
  {
   "cell_type": "code",
   "execution_count": 10,
   "metadata": {},
   "outputs": [
    {
     "data": {
      "text/html": [
       "<div>\n",
       "<style scoped>\n",
       "    .dataframe tbody tr th:only-of-type {\n",
       "        vertical-align: middle;\n",
       "    }\n",
       "\n",
       "    .dataframe tbody tr th {\n",
       "        vertical-align: top;\n",
       "    }\n",
       "\n",
       "    .dataframe thead th {\n",
       "        text-align: right;\n",
       "    }\n",
       "</style>\n",
       "<table border=\"1\" class=\"dataframe\">\n",
       "  <thead>\n",
       "    <tr style=\"text-align: right;\">\n",
       "      <th></th>\n",
       "      <th>Age</th>\n",
       "      <th>Income</th>\n",
       "      <th>Student</th>\n",
       "      <th>Credit_Rating</th>\n",
       "      <th>Buys_Computer</th>\n",
       "    </tr>\n",
       "  </thead>\n",
       "  <tbody>\n",
       "    <tr>\n",
       "      <th>0</th>\n",
       "      <td>&lt;=30</td>\n",
       "      <td>High</td>\n",
       "      <td>No</td>\n",
       "      <td>F</td>\n",
       "      <td>No</td>\n",
       "    </tr>\n",
       "    <tr>\n",
       "      <th>1</th>\n",
       "      <td>&lt;=30</td>\n",
       "      <td>High</td>\n",
       "      <td>No</td>\n",
       "      <td>E</td>\n",
       "      <td>No</td>\n",
       "    </tr>\n",
       "    <tr>\n",
       "      <th>2</th>\n",
       "      <td>31-40</td>\n",
       "      <td>High</td>\n",
       "      <td>No</td>\n",
       "      <td>F</td>\n",
       "      <td>Yes</td>\n",
       "    </tr>\n",
       "    <tr>\n",
       "      <th>3</th>\n",
       "      <td>&gt;40</td>\n",
       "      <td>Medium</td>\n",
       "      <td>No</td>\n",
       "      <td>F</td>\n",
       "      <td>Yes</td>\n",
       "    </tr>\n",
       "    <tr>\n",
       "      <th>4</th>\n",
       "      <td>&gt;40</td>\n",
       "      <td>Low</td>\n",
       "      <td>Yes</td>\n",
       "      <td>F</td>\n",
       "      <td>Yes</td>\n",
       "    </tr>\n",
       "    <tr>\n",
       "      <th>5</th>\n",
       "      <td>&gt;40</td>\n",
       "      <td>Low</td>\n",
       "      <td>Yes</td>\n",
       "      <td>E</td>\n",
       "      <td>No</td>\n",
       "    </tr>\n",
       "    <tr>\n",
       "      <th>6</th>\n",
       "      <td>31-40</td>\n",
       "      <td>Low</td>\n",
       "      <td>Yes</td>\n",
       "      <td>E</td>\n",
       "      <td>Yes</td>\n",
       "    </tr>\n",
       "    <tr>\n",
       "      <th>7</th>\n",
       "      <td>&lt;=30</td>\n",
       "      <td>Medium</td>\n",
       "      <td>No</td>\n",
       "      <td>F</td>\n",
       "      <td>No</td>\n",
       "    </tr>\n",
       "    <tr>\n",
       "      <th>8</th>\n",
       "      <td>&gt;=30</td>\n",
       "      <td>Low</td>\n",
       "      <td>Yes</td>\n",
       "      <td>F</td>\n",
       "      <td>Yes</td>\n",
       "    </tr>\n",
       "    <tr>\n",
       "      <th>9</th>\n",
       "      <td>&gt;=30</td>\n",
       "      <td>Medium</td>\n",
       "      <td>Yes</td>\n",
       "      <td>F</td>\n",
       "      <td>Yes</td>\n",
       "    </tr>\n",
       "    <tr>\n",
       "      <th>10</th>\n",
       "      <td>&lt;=30</td>\n",
       "      <td>Medium</td>\n",
       "      <td>Yes</td>\n",
       "      <td>E</td>\n",
       "      <td>Yes</td>\n",
       "    </tr>\n",
       "    <tr>\n",
       "      <th>11</th>\n",
       "      <td>31-40</td>\n",
       "      <td>Medium</td>\n",
       "      <td>No</td>\n",
       "      <td>E</td>\n",
       "      <td>Yes</td>\n",
       "    </tr>\n",
       "    <tr>\n",
       "      <th>12</th>\n",
       "      <td>31-40</td>\n",
       "      <td>High</td>\n",
       "      <td>Yes</td>\n",
       "      <td>F</td>\n",
       "      <td>Yes</td>\n",
       "    </tr>\n",
       "    <tr>\n",
       "      <th>13</th>\n",
       "      <td>&gt;40</td>\n",
       "      <td>Medium</td>\n",
       "      <td>No</td>\n",
       "      <td>E</td>\n",
       "      <td>No</td>\n",
       "    </tr>\n",
       "  </tbody>\n",
       "</table>\n",
       "</div>"
      ],
      "text/plain": [
       "      Age  Income Student Credit_Rating Buys_Computer\n",
       "0    <=30    High      No             F            No\n",
       "1    <=30    High      No             E            No\n",
       "2   31-40    High      No             F           Yes\n",
       "3     >40  Medium      No             F           Yes\n",
       "4     >40     Low     Yes             F           Yes\n",
       "5     >40     Low     Yes             E            No\n",
       "6   31-40     Low     Yes             E           Yes\n",
       "7    <=30  Medium      No             F            No\n",
       "8    >=30     Low     Yes             F           Yes\n",
       "9    >=30  Medium     Yes             F           Yes\n",
       "10   <=30  Medium     Yes             E           Yes\n",
       "11  31-40  Medium      No             E           Yes\n",
       "12  31-40    High     Yes             F           Yes\n",
       "13    >40  Medium      No             E            No"
      ]
     },
     "execution_count": 10,
     "metadata": {},
     "output_type": "execute_result"
    }
   ],
   "source": [
    "data = {'Age':['<=30','<=30','31-40','>40','>40','>40','31-40','<=30','>=30','>=30','<=30','31-40','31-40','>40'],\n",
    "       'Income':['High','High','High','Medium','Low','Low','Low','Medium','Low','Medium','Medium','Medium','High','Medium'],\n",
    "       'Student':['No','No','No','No','Yes','Yes','Yes','No','Yes','Yes','Yes','No','Yes','No'],\n",
    "       'Credit_Rating':['F','E','F','F','F','E','E','F','F','F','E','E','F','E'],\n",
    "        'Buys_Computer':['No','No','Yes','Yes','Yes','No','Yes','No','Yes','Yes','Yes','Yes','Yes','No']}\n",
    "df = pd.DataFrame(data, columns=['Age','Income','Student','Credit_Rating','Buys_Computer'])\n",
    "df        "
   ]
  },
  {
   "cell_type": "code",
   "execution_count": 11,
   "metadata": {},
   "outputs": [],
   "source": [
    "# data = {'Taste':['Salty','Spicy','Spicy','Spicy','Spicy','Sweet','Salty','Sweet','Spicy','Salty'],\n",
    "#        'Temperature':['Hot','Hot','Hot','Cold','Hot','Cold','Cold','Hot','Cold','Hot'],\n",
    "#        'Texture':['Soft','Soft','Hard','Hard','Hard','Soft','Soft','Soft','Soft','Hard'],\n",
    "#        'Eat':['No','No','Yes','No','Yes','Yes','No','Yes','Yes','Yes']}\n",
    "# df = pd.DataFrame(data, columns=['Taste','Temperature','Texture','Eat'])\n",
    "# df        "
   ]
  },
  {
   "cell_type": "code",
   "execution_count": 12,
   "metadata": {},
   "outputs": [
    {
     "data": {
      "text/plain": [
       "0.9402859586706311"
      ]
     },
     "execution_count": 12,
     "metadata": {},
     "output_type": "execute_result"
    }
   ],
   "source": [
    "info = 0.0\n",
    "values = df.Buys_Computer.unique()\n",
    "target_vals = df.Buys_Computer.unique()\n",
    "for value in values:\n",
    "    prob = df.Buys_Computer.value_counts()[value]/len(df)\n",
    "    info += -prob*np.log2(prob)\n",
    "info"
   ]
  },
  {
   "cell_type": "code",
   "execution_count": 13,
   "metadata": {},
   "outputs": [
    {
     "name": "stdout",
     "output_type": "stream",
     "text": [
      "['<=30' '31-40' '>40' '>=30']\n",
      "['High' 'Medium' 'Low']\n",
      "['No' 'Yes']\n",
      "['F' 'E']\n"
     ]
    }
   ],
   "source": [
    "cols = ['Age','Income','Student','Credit_Rating']\n",
    "for each_col in cols:\n",
    "    entropy_att=0\n",
    "    classes = df[each_col].unique()\n",
    "    print(classes)"
   ]
  },
  {
   "cell_type": "code",
   "execution_count": 14,
   "metadata": {},
   "outputs": [
    {
     "name": "stdout",
     "output_type": "stream",
     "text": [
      "{'Age': 0.5175080355597519, 'Income': 0.9110633930116756, 'Student': 0.7884504573082889, 'Credit_Rating': 0.892158928262361}\n",
      "{'Age': 0.42277792311087925, 'Income': 0.029222565658955535, 'Student': 0.15183550136234225, 'Credit_Rating': 0.048127030408270155}\n"
     ]
    }
   ],
   "source": [
    "#First Level\n",
    "entropy_attributes = {}\n",
    "gain_each = {}\n",
    "for each_col in cols:\n",
    "    entropy_att=0\n",
    "    classes = df[each_col].unique()\n",
    "    \n",
    "    for each_class in classes:\n",
    "        entropy_each_class = 0\n",
    "        \n",
    "        for target_val in target_vals:\n",
    "            numerator = len(df[each_col][df[each_col]==each_class][df.Buys_Computer ==target_val])\n",
    "            denominator = len(df[each_col][df[each_col]==each_class])\n",
    "            prob = numerator/(denominator+eps)\n",
    "            entropy_each_class += abs(-prob*np.log2(prob+eps))\n",
    "            \n",
    "        prob_outer = denominator/len(df)\n",
    "        entropy_att += abs(-prob_outer*entropy_each_class)\n",
    "        \n",
    "    entropy_attributes[each_col] = entropy_att\n",
    "    gain_each[each_col] = info - entropy_att\n",
    "print(entropy_attributes)\n",
    "print(gain_each)    "
   ]
  },
  {
   "cell_type": "code",
   "execution_count": 15,
   "metadata": {},
   "outputs": [],
   "source": [
    "def find_entropy(df):\n",
    "    Class = df.keys()[-1]\n",
    "    entropy = 0\n",
    "    values = df[Class].unique()\n",
    "    for value in values:\n",
    "        fraction = df[Class].value_counts()[value]/len(df[Class])\n",
    "        entropy += -fraction*np.log2(fraction)\n",
    "    return entropy"
   ]
  },
  {
   "cell_type": "code",
   "execution_count": 16,
   "metadata": {},
   "outputs": [],
   "source": [
    "def find_entropy_attribute(df,attribute):\n",
    "  Class = df.keys()[-1]\n",
    "  target_variables = df[Class].unique()\n",
    "  variables = df[attribute].unique()\n",
    "  entropy2 = 0\n",
    "  for variable in variables:\n",
    "      entropy = 0\n",
    "      for target_variable in target_variables:\n",
    "          num = len(df[attribute][df[attribute]==variable][df[Class] ==target_variable])\n",
    "          den = len(df[attribute][df[attribute]==variable])\n",
    "          fraction = num/(den+eps)\n",
    "          entropy += -fraction*log(fraction+eps)\n",
    "      fraction2 = den/len(df)\n",
    "      entropy2 += -fraction2*entropy\n",
    "  return abs(entropy2)"
   ]
  },
  {
   "cell_type": "code",
   "execution_count": 17,
   "metadata": {},
   "outputs": [],
   "source": [
    "def find_winner(df):\n",
    "    Entropy_att = []\n",
    "    IG = []\n",
    "    for key in df.keys()[:-1]:\n",
    "#       Entropy_att.append(find_entropy_attribute(df,key))\n",
    "        IG.append(find_entropy(df)-find_entropy_attribute(df,key))\n",
    "    return df.keys()[:-1][np.argmax(IG)]"
   ]
  },
  {
   "cell_type": "code",
   "execution_count": 18,
   "metadata": {},
   "outputs": [],
   "source": [
    "def get_subtable(df, node,value):\n",
    "  return df[df[node] == value].reset_index(drop=True)"
   ]
  },
  {
   "cell_type": "code",
   "execution_count": 19,
   "metadata": {},
   "outputs": [],
   "source": [
    "def buildTree(df,tree=None): \n",
    "    Class = df.keys()[-1]    \n",
    "    #Start building the decision tree\n",
    "    node = find_winner(df)#attribute with maxm info_gain\n",
    "    attValue = np.unique(df[node])\n",
    "    if tree is None:                    \n",
    "        tree={}\n",
    "        tree[node] = {}\n",
    "    for value in attValue:\n",
    "        \n",
    "        subtable = get_subtable(df,node,value)\n",
    "        clValue,counts = np.unique(subtable['Buys_Computer'],return_counts=True)                        \n",
    "        \n",
    "        if len(counts)==1:\n",
    "            tree[node][value] = clValue[0]                                                    \n",
    "        else:        \n",
    "            tree[node][value] = buildTree(subtable)\n",
    "                   \n",
    "    return tree"
   ]
  },
  {
   "cell_type": "code",
   "execution_count": 20,
   "metadata": {},
   "outputs": [
    {
     "name": "stdout",
     "output_type": "stream",
     "text": [
      "{'Age': {'31-40': 'Yes',\n",
      "         '<=30': {'Student': {'No': 'No', 'Yes': 'Yes'}},\n",
      "         '>40': {'Credit_Rating': {'E': 'No', 'F': 'Yes'}},\n",
      "         '>=30': 'Yes'}}\n"
     ]
    }
   ],
   "source": [
    "#Build Tree\n",
    "import pprint\n",
    "tree = buildTree(df)\n",
    "pprint.pprint(tree)"
   ]
  },
  {
   "cell_type": "code",
   "execution_count": 21,
   "metadata": {},
   "outputs": [],
   "source": [
    "#Predction function\n",
    "def predict(inst,tree):\n",
    "    for nodes in tree.keys():        \n",
    "        \n",
    "        value = inst[nodes]\n",
    "        tree = tree[nodes][value]\n",
    "        prediction = 0\n",
    "            \n",
    "        if type(tree) is dict:\n",
    "            prediction = predict(inst, tree)\n",
    "        else:\n",
    "            prediction = tree\n",
    "            break;                            \n",
    "        \n",
    "    return prediction"
   ]
  },
  {
   "cell_type": "code",
   "execution_count": 32,
   "metadata": {},
   "outputs": [
    {
     "data": {
      "text/plain": [
       "Age              <=30\n",
       "Income           High\n",
       "Student           Yes\n",
       "Credit_Rating       E\n",
       "dtype: object"
      ]
     },
     "execution_count": 32,
     "metadata": {},
     "output_type": "execute_result"
    }
   ],
   "source": [
    "#Testing\n",
    "test_data = pd.Series({'Age':'<=30','Income':'High','Student':'Yes','Credit_Rating':'E'})\n",
    "test_data"
   ]
  },
  {
   "cell_type": "code",
   "execution_count": 33,
   "metadata": {},
   "outputs": [
    {
     "data": {
      "text/plain": [
       "'Yes'"
      ]
     },
     "execution_count": 33,
     "metadata": {},
     "output_type": "execute_result"
    }
   ],
   "source": [
    "#Predict\n",
    "pred = predict(test_data,tree)\n",
    "pred"
   ]
  },
  {
   "cell_type": "code",
   "execution_count": null,
   "metadata": {},
   "outputs": [],
   "source": []
  }
 ],
 "metadata": {
  "kernelspec": {
   "display_name": "Python 3",
   "language": "python",
   "name": "python3"
  },
  "language_info": {
   "codemirror_mode": {
    "name": "ipython",
    "version": 3
   },
   "file_extension": ".py",
   "mimetype": "text/x-python",
   "name": "python",
   "nbconvert_exporter": "python",
   "pygments_lexer": "ipython3",
   "version": "3.7.3"
  }
 },
 "nbformat": 4,
 "nbformat_minor": 2
}
